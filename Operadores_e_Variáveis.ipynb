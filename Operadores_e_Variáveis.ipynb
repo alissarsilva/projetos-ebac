{
  "nbformat": 4,
  "nbformat_minor": 0,
  "metadata": {
    "colab": {
      "provenance": [],
      "authorship_tag": "ABX9TyNZ8DaRtah24JAV/dTknYqY",
      "include_colab_link": true
    },
    "kernelspec": {
      "name": "python3",
      "display_name": "Python 3"
    },
    "language_info": {
      "name": "python"
    }
  },
  "cells": [
    {
      "cell_type": "markdown",
      "metadata": {
        "id": "view-in-github",
        "colab_type": "text"
      },
      "source": [
        "<a href=\"https://colab.research.google.com/github/alissarsilva/projetos-ebac/blob/main/Operadores_e_Vari%C3%A1veis.ipynb\" target=\"_parent\"><img src=\"https://colab.research.google.com/assets/colab-badge.svg\" alt=\"Open In Colab\"/></a>"
      ]
    },
    {
      "cell_type": "markdown",
      "source": [
        "# Operadores Aritméticos"
      ],
      "metadata": {
        "id": "nuO86wZqBtcK"
      }
    },
    {
      "cell_type": "code",
      "source": [
        "# @title\n",
        "# Adição\n",
        "10 + 2"
      ],
      "metadata": {
        "colab": {
          "base_uri": "https://localhost:8080/"
        },
        "id": "n5uWOuouCDCa",
        "outputId": "56eef0ce-67fd-4417-aa16-246255ac59c5"
      },
      "execution_count": 1,
      "outputs": [
        {
          "output_type": "execute_result",
          "data": {
            "text/plain": [
              "12"
            ]
          },
          "metadata": {},
          "execution_count": 1
        }
      ]
    },
    {
      "cell_type": "code",
      "source": [
        "# Subtração\n",
        "10 - 2"
      ],
      "metadata": {
        "colab": {
          "base_uri": "https://localhost:8080/"
        },
        "id": "S5Iauz13CX_y",
        "outputId": "1b3b70aa-01ec-41f4-cc28-33a22861c884"
      },
      "execution_count": null,
      "outputs": [
        {
          "output_type": "execute_result",
          "data": {
            "text/plain": [
              "8"
            ]
          },
          "metadata": {},
          "execution_count": 2
        }
      ]
    },
    {
      "cell_type": "code",
      "source": [
        "# Multiplicação\n",
        "10 * 2"
      ],
      "metadata": {
        "colab": {
          "base_uri": "https://localhost:8080/"
        },
        "id": "VRuLb41pCqCZ",
        "outputId": "0442bbf0-2bff-4e32-d1b5-7796708437dc"
      },
      "execution_count": null,
      "outputs": [
        {
          "output_type": "execute_result",
          "data": {
            "text/plain": [
              "20"
            ]
          },
          "metadata": {},
          "execution_count": 3
        }
      ]
    },
    {
      "cell_type": "code",
      "source": [
        "# Divisão\n",
        "10 / 2"
      ],
      "metadata": {
        "colab": {
          "base_uri": "https://localhost:8080/"
        },
        "id": "AjvHSy-6Cxbp",
        "outputId": "d68888e2-7c78-40fe-c768-4b05d5598ba1"
      },
      "execution_count": null,
      "outputs": [
        {
          "output_type": "execute_result",
          "data": {
            "text/plain": [
              "5.0"
            ]
          },
          "metadata": {},
          "execution_count": 4
        }
      ]
    },
    {
      "cell_type": "code",
      "source": [
        "# Divisão Inteira\n",
        "10 // 2"
      ],
      "metadata": {
        "colab": {
          "base_uri": "https://localhost:8080/"
        },
        "id": "xJI6iFrLC1Qx",
        "outputId": "8de9c9f9-99d4-427f-f51e-f02bc2dadb4a"
      },
      "execution_count": null,
      "outputs": [
        {
          "output_type": "execute_result",
          "data": {
            "text/plain": [
              "5"
            ]
          },
          "metadata": {},
          "execution_count": 5
        }
      ]
    },
    {
      "cell_type": "code",
      "source": [
        "# Resto da Divisão\n",
        "10 % 2"
      ],
      "metadata": {
        "colab": {
          "base_uri": "https://localhost:8080/"
        },
        "id": "SaY-JUyiC7qS",
        "outputId": "0bfe53f1-39a3-4632-b3d4-a1d16c419cb9"
      },
      "execution_count": null,
      "outputs": [
        {
          "output_type": "execute_result",
          "data": {
            "text/plain": [
              "0"
            ]
          },
          "metadata": {},
          "execution_count": 6
        }
      ]
    },
    {
      "cell_type": "code",
      "source": [
        "# Potenciação\n",
        "10 ** 2"
      ],
      "metadata": {
        "colab": {
          "base_uri": "https://localhost:8080/"
        },
        "id": "tl65AjHADA-B",
        "outputId": "2157e0fc-2c5d-45dd-cef7-4a29af038984"
      },
      "execution_count": null,
      "outputs": [
        {
          "output_type": "execute_result",
          "data": {
            "text/plain": [
              "100"
            ]
          },
          "metadata": {},
          "execution_count": 7
        }
      ]
    },
    {
      "cell_type": "markdown",
      "source": [
        "# Operadores Relacionais"
      ],
      "metadata": {
        "id": "ips4IVRcDHnx"
      }
    },
    {
      "cell_type": "code",
      "execution_count": null,
      "metadata": {
        "colab": {
          "base_uri": "https://localhost:8080/"
        },
        "id": "4vFo55On_wHQ",
        "outputId": "4f2a5077-494f-4a12-b453-741d35b4718f"
      },
      "outputs": [
        {
          "output_type": "execute_result",
          "data": {
            "text/plain": [
              "False"
            ]
          },
          "metadata": {},
          "execution_count": 8
        }
      ],
      "source": [
        "# Menor\n",
        "10 < 2"
      ]
    },
    {
      "cell_type": "code",
      "source": [
        "# Menor ou igual\n",
        "10 <= 2"
      ],
      "metadata": {
        "colab": {
          "base_uri": "https://localhost:8080/"
        },
        "id": "-MlMYnJmDWyJ",
        "outputId": "6c58d844-b4f6-4448-adbc-9219c42ac3d7"
      },
      "execution_count": null,
      "outputs": [
        {
          "output_type": "execute_result",
          "data": {
            "text/plain": [
              "False"
            ]
          },
          "metadata": {},
          "execution_count": 9
        }
      ]
    },
    {
      "cell_type": "code",
      "source": [
        "# Maior\n",
        "10 > 2"
      ],
      "metadata": {
        "colab": {
          "base_uri": "https://localhost:8080/"
        },
        "id": "ecw3YQ2mDc5a",
        "outputId": "6ae52ce8-fedd-475c-c72e-d486804088b3"
      },
      "execution_count": null,
      "outputs": [
        {
          "output_type": "execute_result",
          "data": {
            "text/plain": [
              "True"
            ]
          },
          "metadata": {},
          "execution_count": 10
        }
      ]
    },
    {
      "cell_type": "code",
      "source": [
        "# Maior ou iual\n",
        "10 >= 2"
      ],
      "metadata": {
        "colab": {
          "base_uri": "https://localhost:8080/"
        },
        "id": "9vsz6MyjDmIi",
        "outputId": "0dab0efb-f17e-4d26-f0f7-34855a3f9f32"
      },
      "execution_count": null,
      "outputs": [
        {
          "output_type": "execute_result",
          "data": {
            "text/plain": [
              "True"
            ]
          },
          "metadata": {},
          "execution_count": 11
        }
      ]
    },
    {
      "cell_type": "code",
      "source": [
        "# Igual\n",
        "7 == 7"
      ],
      "metadata": {
        "colab": {
          "base_uri": "https://localhost:8080/"
        },
        "id": "ncDszbewDqyJ",
        "outputId": "aa7864d1-68f5-4a87-ae58-a13b6b9ebc81"
      },
      "execution_count": null,
      "outputs": [
        {
          "output_type": "execute_result",
          "data": {
            "text/plain": [
              "True"
            ]
          },
          "metadata": {},
          "execution_count": 12
        }
      ]
    },
    {
      "cell_type": "code",
      "source": [
        "# Diferente\n",
        "7 != 7"
      ],
      "metadata": {
        "colab": {
          "base_uri": "https://localhost:8080/"
        },
        "id": "r_O0vVlqD01J",
        "outputId": "4d6bacf0-0d72-42f6-d176-d23637d57a72"
      },
      "execution_count": null,
      "outputs": [
        {
          "output_type": "execute_result",
          "data": {
            "text/plain": [
              "False"
            ]
          },
          "metadata": {},
          "execution_count": 13
        }
      ]
    },
    {
      "cell_type": "markdown",
      "source": [
        "# Operadores Lógicos\n",
        "\n",
        "\n",
        "\n",
        "*   And\n",
        "*   Or\n",
        "*   Not\n",
        "\n"
      ],
      "metadata": {
        "id": "17eL5yKiD7np"
      }
    },
    {
      "cell_type": "markdown",
      "source": [
        "#### Tabela Verdade\n",
        "\n",
        "###### And"
      ],
      "metadata": {
        "id": "rfm7IexhEWZg"
      }
    },
    {
      "cell_type": "code",
      "source": [
        "print(10 > 2 and 4 < 6)        # V and  V = V\n",
        "print(10 > 2 and 4 > 6)        # V and  F = F\n",
        "print(10 < 2 and 4 < 6)        # F and  V = F\n",
        "print(10 < 2 and 4 > 6)        # F and  F = F"
      ],
      "metadata": {
        "colab": {
          "base_uri": "https://localhost:8080/"
        },
        "collapsed": true,
        "id": "CutglFvBD6UZ",
        "outputId": "a10847bb-e580-4684-b28d-513fbb0c768a"
      },
      "execution_count": null,
      "outputs": [
        {
          "output_type": "stream",
          "name": "stdout",
          "text": [
            "True\n",
            "False\n",
            "False\n",
            "False\n"
          ]
        }
      ]
    },
    {
      "cell_type": "markdown",
      "source": [
        "###### Or"
      ],
      "metadata": {
        "id": "jXWF_BumFqUI"
      }
    },
    {
      "cell_type": "code",
      "source": [
        "print(10 > 2 or 4 < 6)        # V and  V = V\n",
        "print(10 > 2 or 4 > 6)        # V and  F = V\n",
        "print(10 < 2 or 4 < 6)        # F and  V = V\n",
        "print(10 < 2 or 4 > 6)        # F and  F = F"
      ],
      "metadata": {
        "colab": {
          "base_uri": "https://localhost:8080/"
        },
        "id": "eUxKqn-WFu_o",
        "outputId": "0bb4bed1-297d-4861-ff95-bf5ce24f9878"
      },
      "execution_count": null,
      "outputs": [
        {
          "output_type": "stream",
          "name": "stdout",
          "text": [
            "True\n",
            "True\n",
            "True\n",
            "False\n"
          ]
        }
      ]
    },
    {
      "cell_type": "markdown",
      "source": [
        "###### Not"
      ],
      "metadata": {
        "id": "Ns_RTu_-GL75"
      }
    },
    {
      "cell_type": "code",
      "source": [
        "not 10 > 2             # V = F"
      ],
      "metadata": {
        "colab": {
          "base_uri": "https://localhost:8080/"
        },
        "id": "ndyfISZTGQsQ",
        "outputId": "050b3cfb-3c17-4bc3-af70-751f25038846"
      },
      "execution_count": null,
      "outputs": [
        {
          "output_type": "execute_result",
          "data": {
            "text/plain": [
              "False"
            ]
          },
          "metadata": {},
          "execution_count": 17
        }
      ]
    },
    {
      "cell_type": "code",
      "source": [
        "not 10 < 2             # F = v"
      ],
      "metadata": {
        "colab": {
          "base_uri": "https://localhost:8080/"
        },
        "id": "r6QUHZppGWzy",
        "outputId": "75bc15ba-8a7b-4b33-e239-29e41daac2b2"
      },
      "execution_count": null,
      "outputs": [
        {
          "output_type": "execute_result",
          "data": {
            "text/plain": [
              "True"
            ]
          },
          "metadata": {},
          "execution_count": 16
        }
      ]
    },
    {
      "cell_type": "markdown",
      "source": [
        "# Variáveis"
      ],
      "metadata": {
        "id": "Gd-iwSTjGkj5"
      }
    },
    {
      "cell_type": "code",
      "source": [
        "# Nome da variável é \"x\" que armazena o valor 10 em um espaço na memória\n",
        "x = 10\n",
        "\n",
        "print(x) # Utilizar a referencia no nome atribuído"
      ],
      "metadata": {
        "colab": {
          "base_uri": "https://localhost:8080/"
        },
        "id": "feyHdFa4Gpgp",
        "outputId": "99e0f7a9-e90a-4f91-dec7-775dfc82c928"
      },
      "execution_count": null,
      "outputs": [
        {
          "output_type": "stream",
          "name": "stdout",
          "text": [
            "10\n"
          ]
        }
      ]
    },
    {
      "cell_type": "markdown",
      "source": [
        "###### Regras"
      ],
      "metadata": {
        "id": "qax5oCegEYPN"
      }
    },
    {
      "cell_type": "markdown",
      "source": [
        "**Case Sensitive**\n",
        "\n",
        "A != a\n",
        "\n",
        "**Boas Práticas com Variáveis**\n",
        "\n",
        "> Exemplo: Multiplicação de 2 números\n",
        "\n",
        "Não usar\n",
        "* Multiplicação\n",
        "* MultiplicacaoDeDoisNumeros\n",
        "* m\n",
        "\n",
        "Usar\n",
        "* multiplicacao\n",
        "* mult\n",
        "* mult_total (snake_case)"
      ],
      "metadata": {
        "id": "1peb8KPWEdDU"
      }
    },
    {
      "cell_type": "markdown",
      "source": [
        "Tipos de Variáveis\n",
        "\n",
        "> Phyton é uma linguagem de alto nível\n",
        ">\n",
        "> Não é necessário especificar o tipo de dados quando declarar a variável\n",
        ">\n",
        "> Phyton define o tipo de dados na declaração\n",
        "\n",
        "Int - num = 5\n",
        "\n",
        "Float: num = 5.2\n",
        "\n",
        "String: meu_nome = 'Rodrigo'\n",
        "\n",
        "Bool: booleana = 10 > 5 (V ou F)"
      ],
      "metadata": {
        "id": "pD3Kx1TpFZNF"
      }
    },
    {
      "cell_type": "markdown",
      "source": [],
      "metadata": {
        "id": "AspJQ8HzG4As"
      }
    }
  ]
}